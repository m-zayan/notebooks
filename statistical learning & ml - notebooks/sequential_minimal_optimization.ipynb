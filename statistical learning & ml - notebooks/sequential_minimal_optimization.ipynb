{
  "nbformat": 4,
  "nbformat_minor": 0,
  "metadata": {
    "colab": {
      "name": "sequential_minimal_optimization.ipynb",
      "provenance": [],
      "collapsed_sections": []
    },
    "kernelspec": {
      "name": "python3",
      "display_name": "Python 3"
    }
  },
  "cells": [
    {
      "cell_type": "code",
      "metadata": {
        "id": "C_ipElEj0EUq",
        "outputId": "d0fe4012-fe94-4538-f170-3a6cf2354eb7",
        "colab": {
          "base_uri": "https://localhost:8080/",
          "height": 68
        }
      },
      "source": [
        "!git clone https://github.com/m-zayan/ml_utils.git\n",
        "\n",
        "!pip install memory-profiler"
      ],
      "execution_count": 1,
      "outputs": [
        {
          "output_type": "stream",
          "text": [
            "fatal: destination path 'ml_utils' already exists and is not an empty directory.\n",
            "Requirement already satisfied: memory-profiler in /usr/local/lib/python3.6/dist-packages (0.57.0)\n",
            "Requirement already satisfied: psutil in /usr/local/lib/python3.6/dist-packages (from memory-profiler) (5.4.8)\n"
          ],
          "name": "stdout"
        }
      ]
    },
    {
      "cell_type": "code",
      "metadata": {
        "id": "Ofzmn76Z-dZb"
      },
      "source": [
        "import numpy as np\n",
        "import pandas as pd\n",
        "\n",
        "\n",
        "# Solving SVM, dual problem  - SMO algorithm\n",
        "\n",
        "# lower_bound = 0.0\n",
        "# upper_bound | C = 1.0"
      ],
      "execution_count": 2,
      "outputs": []
    },
    {
      "cell_type": "code",
      "metadata": {
        "id": "pYw-Itcg0QTW"
      },
      "source": [
        "%load_ext memory_profiler\n",
        "\n",
        "import sys\n",
        "\n",
        "import gc\n",
        "\n",
        "sys.path.insert(0, './ml_utils')\n",
        "\n",
        "from ml_utils.plots import Animation2D\n",
        "from ml_utils.dataset import Load\n",
        "from ml_utils.requests_utils.data_request import Writer\n",
        "\n",
        "\n",
        "url = 'https://datahub.io/machine-learning/mnist_784/r/mnist_784.csv'\n",
        "fname = 'mnist.csv'\n",
        "\n",
        "Writer.download_from_url(url, to_path=f'./{fname}', chunk_size=1024)\n"
      ],
      "execution_count": 3,
      "outputs": []
    },
    {
      "cell_type": "code",
      "metadata": {
        "id": "Vr9p0X3P06is"
      },
      "source": [
        "loader = Load(dtype='numpy')\n",
        "\n",
        "random_state = 42"
      ],
      "execution_count": 4,
      "outputs": []
    },
    {
      "cell_type": "markdown",
      "metadata": {
        "id": "GAlizMRF0NYV"
      },
      "source": [
        "# SMO"
      ]
    },
    {
      "cell_type": "code",
      "metadata": {
        "id": "dB-L17U3crYn"
      },
      "source": [
        "def compute_w(x, y, alpha):\n",
        "\n",
        "  return np.dot(x, (y * alpha))"
      ],
      "execution_count": 5,
      "outputs": []
    },
    {
      "cell_type": "code",
      "metadata": {
        "id": "FkW8Mc0VcshB"
      },
      "source": [
        "def compute_b(x, y, w):\n",
        "  \n",
        "  return (np.dot(x, w) - y).sum(axis=0)"
      ],
      "execution_count": 6,
      "outputs": []
    },
    {
      "cell_type": "code",
      "metadata": {
        "id": "00igDFes-CeX"
      },
      "source": [
        "def compute_u(x_i, y_i, alpha_i, b):\n",
        "\n",
        "  w = compute_w(x_i, y_i, alpha_i)\n",
        "  z = np.dot(x_i, w) - b\n",
        "  \n",
        "  return np.sign(z)"
      ],
      "execution_count": 7,
      "outputs": []
    },
    {
      "cell_type": "code",
      "metadata": {
        "id": "cYiegSNqWjJz"
      },
      "source": [
        "def compute_error_i(x_i, y_i, alpha_i, b):\n",
        "\n",
        "  u_i = compute_u(x_i, y_i, alpha_i, b)\n",
        "  \n",
        "  return u_i - y_i"
      ],
      "execution_count": 8,
      "outputs": []
    },
    {
      "cell_type": "code",
      "metadata": {
        "id": "CLo_SY_u_bCp"
      },
      "source": [
        "def check_kkt_conditions(y_i, u_i, alpha_i, C):\n",
        "\n",
        "  solved_i = (alpha_i == 0 and y_i * u_i >= 1) or \\\n",
        "             (0 < alpha_i < C and y_i * u_i == 1) or \\\n",
        "             (alpha_i == C and y_i * u_i <= 1)\n",
        "  \n",
        "  return solved_i"
      ],
      "execution_count": 9,
      "outputs": []
    },
    {
      "cell_type": "code",
      "metadata": {
        "id": "7Gx469EUA_uM"
      },
      "source": [
        "# alpha_j - bounds, L, H - respectively\n",
        "\n",
        "def constraints_bounds(y_i, y_j, alpha_i, alpha_j, C):\n",
        "\n",
        "  if y_i == y_j:\n",
        "\n",
        "    return max(0, alpha_j + alpha_i - C), min(C, alpha_j + alpha_i)\n",
        "  \n",
        "  else:\n",
        "\n",
        "    return max(0, alpha_j - alpha_i), min(C, C + alpha_j - alpha_i)"
      ],
      "execution_count": 10,
      "outputs": []
    },
    {
      "cell_type": "code",
      "metadata": {
        "id": "M4aEkZfBGenR"
      },
      "source": [
        "def second_derivative(k_i, k_j, k_ij):\n",
        "\n",
        "  # eta\n",
        "  return k_i + k_j - 2 * k_ij "
      ],
      "execution_count": 11,
      "outputs": []
    },
    {
      "cell_type": "code",
      "metadata": {
        "id": "-28RC_oFNCET"
      },
      "source": [
        " #  alpha_j clip\n",
        " \n",
        "def correct_bounds_j(alpha_j, L, H):\n",
        "\n",
        "  if alpha_j >= H:\n",
        "    \n",
        "    return H\n",
        "  \n",
        "  elif L < alpha_j < H:\n",
        "\n",
        "    return alpha_j\n",
        "\n",
        "  else: # alpha_j <= L\n",
        "\n",
        "    return L"
      ],
      "execution_count": 12,
      "outputs": []
    },
    {
      "cell_type": "code",
      "metadata": {
        "id": "3Vf9VJOqMCIL"
      },
      "source": [
        "def update_alpha_j(y_i, y_j, alpha_i, alpha_j, e_i, e_j, eta, L, H):\n",
        "\n",
        "  new_alpha_j = alpha_j + y_j* (e_i - e_j) / eta\n",
        "  new_alpha_j = correct_bounds_j(new_alpha_j, L, H)\n",
        "\n",
        "  return new_alpha_j\n",
        "\n",
        "def update_alpha_i(y_i, y_j, alpha_i, alpha_j, new_alpha_j):\n",
        "\n",
        "  # dir = y_i * y_j\n",
        "  new_alpha_i = alpha_i + y_i * y_j * (alpha_j - new_alpha_j) \n",
        "\n",
        "  return new_alpha_i"
      ],
      "execution_count": 13,
      "outputs": []
    },
    {
      "cell_type": "code",
      "metadata": {
        "id": "RF1Uh078NilO"
      },
      "source": [
        "# in case of second_derivative(...) is not positive definite, ex. x_i = x_j\n",
        "\n",
        "def objective_function(k_i, k_j, k_ij, y_i, y_j, \n",
        "                       alpha_i, alpha_j, e_i, e_j, \n",
        "                       b, L, H):\n",
        "\n",
        "  s = y_i * y_j # dir\n",
        "\n",
        "  f_i = y_i * (e_i + b) - alpha_i * k_i - s * alpha_j * k_ij\n",
        "  f_j = y_j * (e_j + b) - s * alpha_i * k_ij - alpha_j * k_j\n",
        "\n",
        "  l_i = alpha_i + s * (alpha_j - L)\n",
        "  h_i = alpha_i + s * (alpha_j - H)\n",
        "\n",
        "  def at_line_segment(bnd_i, bnd):\n",
        "\n",
        "    return bnd_i * f_i + \\\n",
        "           bnd * f_j + \\\n",
        "           0.5 * (bnd_i * bnd_i) * k_i + \\\n",
        "           0.5 * (bnd * bnd) * k_j + \\\n",
        "           s * bnd * bnd_i * k_ij\n",
        "\n",
        "  obj_l = at_line_segment(l_i, L)\n",
        "  obj_h = at_line_segment(h_i, H)\n",
        "\n",
        "  return obj_l, obj_h"
      ],
      "execution_count": 14,
      "outputs": []
    },
    {
      "cell_type": "code",
      "metadata": {
        "id": "hEvzqMpHbYoL"
      },
      "source": [
        "def poly_kernel(x_i, x_j, p=2): # p --> degree\n",
        "  \n",
        "  return (x_i @ x_j.T) ** p\n",
        "\n",
        "def linear_kernel(x_i, x_j):\n",
        "\n",
        "  return x_i @ x_j.T"
      ],
      "execution_count": 15,
      "outputs": []
    },
    {
      "cell_type": "code",
      "metadata": {
        "id": "V1Ad1uJeQVGF"
      },
      "source": [
        "class SVC:\n",
        "\n",
        "  def __init__(self, X, Y, kernel_type='linear', gamma='scale', C=1.0, tol=1e-5):\n",
        "    \n",
        "    self.X = X\n",
        "    self.Y = Y\n",
        "    self.kernel_type = kernel_type\n",
        "\n",
        "    self.gamma = gamma\n",
        "    self.C = C\n",
        "\n",
        "    self.tol = tol\n",
        "    \n",
        "    self.m, self.n = X.shape\n",
        "    \n",
        "    self.x_var = X.var()\n",
        "\n",
        "    self.alpha = np.zeros((self.m, ))\n",
        "    self.b = 0.0\n",
        "\n",
        "    self.eps = 1e-3 # epsilon\n",
        "\n",
        "    self.error_cache = {}\n",
        "    self.kernel_cache = {}\n",
        "\n",
        "  def compute_kernel(self, i, j):\n",
        "    \n",
        "    l = i * self.m + j\n",
        "    keys = list(self.kernel_cache.keys())\n",
        "    \n",
        "    size = (len(keys) * 4) / (1024 * 1024)\n",
        "\n",
        "    if size >= 400: # MB\n",
        "\n",
        "      for k in range(len(keys) // 2):\n",
        "\n",
        "        self.kernel_cache.pop(keys[k])\n",
        "\n",
        "    if l not in self.kernel_cache:\n",
        "\n",
        "      if self.kernel_type == 'rbf':\n",
        "\n",
        "        pass # not implemented\n",
        "\n",
        "      elif self.kernel_type == 'poly':\n",
        "\n",
        "        self.kernel_cache[l] = poly_kernel(self.X[i], self.X[j], 2)\n",
        "      \n",
        "      elif self.kernel_type == 'linear':\n",
        "\n",
        "        self.kernel_cache[l] = linear_kernel(self.X[i], self.X[j])\n",
        "      \n",
        "      else:\n",
        "\n",
        "        raise ValueError('kernel_type - not found')\n",
        "\n",
        "    return self.kernel_cache[l]\n",
        "\n",
        "  def get_none_bounds(self):\n",
        "\n",
        "    indices = np.where((self.alpha != 0.0) & (self.alpha != self.C))[0]\n",
        "\n",
        "    return indices\n",
        "\n",
        "  def take_step(self, i ,j):\n",
        "\n",
        "    alpha_i, alpha_j = self.alpha[i], self.alpha[j]\n",
        "    y_i, y_j = self.Y[i], self.Y[j]\n",
        "    \n",
        "    e_i, e_j = self.error_cache[i], self.error_cache[j]\n",
        "\n",
        "    L, H = constraints_bounds(y_i, y_j, alpha_i, alpha_j, self.C)\n",
        "\n",
        "    if L == H:\n",
        "\n",
        "      return 0\n",
        "\n",
        "    k_i = self.compute_kernel(i, i)\n",
        "    k_j = self.compute_kernel(j, j)\n",
        "    k_ij = self.compute_kernel(i, j)\n",
        "\n",
        "    eta = second_derivative(k_i, k_j, k_ij)\n",
        "\n",
        "    if eta > 0:\n",
        "\n",
        "      new_alpha_j = update_alpha_j(y_i, y_j, alpha_i, alpha_j, e_i, e_j, eta, L, H)\n",
        "    \n",
        "    else:\n",
        "\n",
        "      obj_l, obj_h = objective_function(k_i, k_j, k_ij, y_i, y_j, \n",
        "                                        alpha_i, alpha_j, e_i, e_j, self.b, L, H)\n",
        "      \n",
        "      if obj_l < obj_h - self.eps:\n",
        "        \n",
        "        new_alpha_j = L\n",
        "      \n",
        "      elif obj_l > obj_h + self.eps:\n",
        "\n",
        "        new_alpha_j = H\n",
        "      \n",
        "      else:\n",
        "\n",
        "        new_alpha_j = alpha_j\n",
        "    \n",
        "    if abs(alpha_j - new_alpha_j) < self.eps * (alpha_j + new_alpha_j + self.eps):\n",
        "      \n",
        "      return 0\n",
        "\n",
        "    new_alpha_i = update_alpha_i(y_i, y_j, alpha_i, alpha_j, new_alpha_j)\n",
        "\n",
        "    # update threshold - b\n",
        "\n",
        "    b1 = self.b + e_i + \\\n",
        "        y_i * (new_alpha_i - alpha_i) * k_i + \\\n",
        "        y_j * (new_alpha_j - alpha_j) * k_ij\n",
        "\n",
        "\n",
        "    b2 = self.b + e_j + \\\n",
        "          y_i * (new_alpha_i - alpha_i) * k_ij + \\\n",
        "          y_j * (new_alpha_j - alpha_j) * k_j\n",
        "\n",
        "    \n",
        "    # if 1 and 2 - b1 = b2\n",
        "\n",
        "    if new_alpha_i != 0 and new_alpha_i != self.C: # 1\n",
        "\n",
        "      self.b = b1\n",
        "\n",
        "    elif new_alpha_j != 0 and new_alpha_j != self.C: # 2\n",
        "\n",
        "      self.b = b2\n",
        "\n",
        "    else:\n",
        "\n",
        "      self.b = (b1 + b2) / 2.0\n",
        "\n",
        "    # update error cache, for i, j\n",
        "    self.error_cache[i] = compute_error_i(k_i, y_i, new_alpha_i, self.b)\n",
        "    self.error_cache[j] = compute_error_i(k_j, y_j, new_alpha_j, self.b)\n",
        "\n",
        "    if self.kernel_type == 'linear':\n",
        "\n",
        "      pass # store w - update\n",
        "    \n",
        "    # update lagrange multipliers\n",
        "    self.alpha[i], self.alpha[j] = new_alpha_i, new_alpha_j\n",
        "    \n",
        "    return 1\n",
        "\n",
        "  # find 2nd lagrange multiplier eligible for optimization\n",
        "  def find_j(self, i):\n",
        "    \n",
        "    e_i = self.error_cache[i]\n",
        "    \n",
        "    if e_i > 0:\n",
        "      \n",
        "      choice = (1e7, -1)\n",
        "\n",
        "      for j in range(0, self.m):\n",
        "        \n",
        "        if i == j:\n",
        "          \n",
        "          continue\n",
        "\n",
        "        k_j = self.compute_kernel(j, j)\n",
        "        err_j = compute_error_i(k_j, self.Y[j], self.alpha[j], self.b)\n",
        "\n",
        "        choice = min(choice, (err_j, j))\n",
        "\n",
        "\n",
        "      return choice[1]\n",
        "    \n",
        "    else:\n",
        "\n",
        "      choice = (-1, -1)\n",
        "\n",
        "      for j in range(0, self.m):\n",
        "        \n",
        "        if i == j:\n",
        "\n",
        "          continue\n",
        "\n",
        "        k_j = self.compute_kernel(j, j)\n",
        "        err_j = compute_error_i(k_j, self.Y[j], self.alpha[j], self.b)\n",
        "\n",
        "        choice = max(choice, (err_j, j))\n",
        "\n",
        "      return choice[1]\n",
        "\n",
        "  def fit_svc(self, max_iter=100, heuristic='random'):\n",
        "\n",
        "    # solve - main loop\n",
        "    if heuristic == 'random':\n",
        "\n",
        "      for k in range(max_iter):\n",
        "        \n",
        "        for i in range(0, self.m):\n",
        "\n",
        "          k_i = self.compute_kernel(i, i)\n",
        "          u_i = compute_u(k_i, self.Y[i], self.alpha[i], self.b)\n",
        "\n",
        "          # at least one violated example  \n",
        "          solved_i = check_kkt_conditions(self.Y[i], u_i, self.alpha[i], self.C)\n",
        "\n",
        "          if solved_i:\n",
        "\n",
        "            continue\n",
        "\n",
        "          j = np.random.randint(0, self.m)\n",
        "          k_j = self.compute_kernel(j, j)\n",
        "\n",
        "          while i == j:\n",
        "          \n",
        "            j = np.random.randint(0, self.m)\n",
        "\n",
        "            k_j = self.compute_kernel(j, j)\n",
        "\n",
        "        self.error_cache[i] = compute_error_i(k_i, self.Y[i], self.alpha[i], self.b)\n",
        "        self.error_cache[j] = compute_error_i(k_j, self.Y[j], self.alpha[j], self.b)\n",
        "        \n",
        "        self.take_step(i, j)\n",
        "    \n",
        "    elif heuristic == 'smo':\n",
        "\n",
        "      for k in range(max_iter):\n",
        "\n",
        "        start = np.random.randint(0, self.m)\n",
        "        non_bounds = self.get_none_bounds()\n",
        "        \n",
        "        for i in non_bounds:\n",
        "          \n",
        "          k_i = self.compute_kernel(i, i)\n",
        "          u_i = compute_u(k_i, self.Y[i], self.alpha[i], self.b)\n",
        "          \n",
        "          # at least one violated example\n",
        "          solved_i = check_kkt_conditions(self.Y[i], u_i, self.alpha[i], self.C)\n",
        "\n",
        "          if solved_i:\n",
        "            \n",
        "            continue\n",
        "\n",
        "\n",
        "          self.error_cache[i] = compute_error_i(k_i, self.Y[i], self.alpha[i], self.b)\n",
        "\n",
        "          # find 2nd lagrange multiplier eligible for optimization\n",
        "          j = self.find_j(i)\n",
        "\n",
        "          k_j = self.compute_kernel(j, j)\n",
        "\n",
        "          self.error_cache[j] = compute_error_i(k_j, self.Y[j], self.alpha[j], self.b)\n",
        "\n",
        "          self.take_step(i, j)\n",
        "\n",
        "        for i in range(start, self.m):\n",
        "          \n",
        "          k_i = self.compute_kernel(i, i)\n",
        "          u_i = compute_u(k_i, self.Y[i], self.alpha[i], self.b)\n",
        "          \n",
        "          self.error_cache[i] = compute_error_i(k_i, self.Y[i], self.alpha[i], self.b)\n",
        "\n",
        "          solved_i = check_kkt_conditions(self.Y[i], u_i, self.alpha[i], self.C)\n",
        "\n",
        "          if not solved_i:\n",
        "        \n",
        "            j = self.find_j(i)\n",
        "\n",
        "            k_j = self.compute_kernel(j, j)\n",
        "\n",
        "            self.error_cache[j] = compute_error_i(k_j, self.Y[j], self.alpha[j], self.b)\n",
        "\n",
        "            self.take_step(i, j)\n",
        "\n",
        "          else:\n",
        "\n",
        "            continue\n",
        "    else:\n",
        "\n",
        "      raise ValueError('heuristic - not found')\n",
        "\n",
        "  def predict(self, x_test):\n",
        "    \n",
        "    w = compute_w(self.X.T, self.Y[:, None], self.alpha[:, None])\n",
        "    \n",
        "    u = x_test @ w - self.b\n",
        "    u = np.sign(u)\n",
        "\n",
        "    neg = np.where(u == -1)[0]\n",
        "    pos = np.where(u == 1)[0]\n",
        "\n",
        "    u[neg] = 0\n",
        "    u[pos] = 1\n",
        "\n",
        "    return u"
      ],
      "execution_count": 16,
      "outputs": []
    },
    {
      "cell_type": "markdown",
      "metadata": {
        "id": "MnUoB52cXw-l"
      },
      "source": [
        "# Test Model"
      ]
    },
    {
      "cell_type": "code",
      "metadata": {
        "id": "cw02I9uU0nyg"
      },
      "source": [
        "def one_hot_encoding(y, classes):\n",
        "\n",
        "  encoded = (y.reshape(-1, 1) == classes).astype('float32')\n",
        "\n",
        "  return encoded"
      ],
      "execution_count": 17,
      "outputs": []
    },
    {
      "cell_type": "code",
      "metadata": {
        "id": "EqrX0qpK8Kub"
      },
      "source": [
        "def load_iris(test_size=0.1):\n",
        "\n",
        "  global n_classes, n, x_train, y_train, x_test, y_test, m_train, m_test\n",
        "  \n",
        "  data = loader.load_train_test(dname='iris', test_size=test_size, random_state=random_state)\n",
        "  \n",
        "  x_train, y_train = data['train']\n",
        "  \n",
        "  x_test, y_test = data['test']\n",
        "  y_test = y_test.squeeze()\n",
        "  \n",
        "  m_train, m_test = len(x_train), len(x_test)\n",
        "  n = x_train.shape[-1]\n",
        "\n",
        "  classes = np.array([0.0, 1.0, 2.0])\n",
        "  n_classes = 3\n",
        "\n",
        "  y_train = one_hot_encoding(y_train, classes)\n",
        "  y_test = one_hot_encoding(y_test, classes)\n",
        "  \n",
        "  print('=' * 50)\n",
        "\n",
        "  print('dim(x_train) :', x_train.shape)\n",
        "  print('dim(y_train) :', y_train.shape)"
      ],
      "execution_count": 18,
      "outputs": []
    },
    {
      "cell_type": "code",
      "metadata": {
        "id": "AacN4QzB00aQ",
        "outputId": "3f686329-45cc-46a9-eaab-7d44f277cee2",
        "colab": {
          "base_uri": "https://localhost:8080/",
          "height": 102
        }
      },
      "source": [
        "%memit\n",
        "\n",
        "try:\n",
        "\n",
        "  del classes, n, x_train, y_train, x_test, y_test, theta, b\n",
        "  \n",
        "except:\n",
        "  \n",
        "  pass\n",
        "  \n",
        "load_iris(test_size=0.1)"
      ],
      "execution_count": 19,
      "outputs": [
        {
          "output_type": "stream",
          "text": [
            "peak memory: 145.60 MiB, increment: 0.02 MiB\n",
            "{'Name': 'IRIS', 'n_samples': 150, 'n_features': 4}\n",
            "==================================================\n",
            "dim(x_train) : (135, 4)\n",
            "dim(y_train) : (135, 3)\n"
          ],
          "name": "stdout"
        }
      ]
    },
    {
      "cell_type": "code",
      "metadata": {
        "id": "iJnShKU51FTP"
      },
      "source": [
        "x, y0 = x_train, y_train[:, 0]\n",
        "\n",
        "y0[y0 == 0] = -1"
      ],
      "execution_count": 20,
      "outputs": []
    },
    {
      "cell_type": "code",
      "metadata": {
        "id": "481xdzHhYdG4"
      },
      "source": [
        "svc = SVC(x, y0, kernel_type='poly')\n",
        "\n",
        "svc.fit_svc(max_iter=1000, heuristic='smo')"
      ],
      "execution_count": 21,
      "outputs": []
    },
    {
      "cell_type": "code",
      "metadata": {
        "id": "a6uwkQ9dYdU6",
        "outputId": "3fae77d6-e476-40fa-b5df-ee6ca2950a27",
        "colab": {
          "base_uri": "https://localhost:8080/",
          "height": 34
        }
      },
      "source": [
        "y_pred = svc.predict(x_test)\n",
        "\n",
        "acc = (y_pred.squeeze() == y_test[:, 0]).sum() / len(x_test)\n",
        "\n",
        "print('accuracy score :', acc)"
      ],
      "execution_count": 22,
      "outputs": [
        {
          "output_type": "stream",
          "text": [
            "accuracy score : 0.9333333333333333\n"
          ],
          "name": "stdout"
        }
      ]
    }
  ]
}