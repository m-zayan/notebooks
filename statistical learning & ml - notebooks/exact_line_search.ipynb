{
  "nbformat": 4,
  "nbformat_minor": 0,
  "metadata": {
    "colab": {
      "name": "Exact Line Search.ipynb",
      "provenance": [],
      "collapsed_sections": [],
      "toc_visible": true
    },
    "kernelspec": {
      "name": "python3",
      "display_name": "Python 3"
    }
  },
  "cells": [
    {
      "cell_type": "code",
      "metadata": {
        "id": "FOCu0KXZR8yC"
      },
      "source": [
        "import pandas as pd\n",
        "import numpy as np\n",
        " \n",
        "import matplotlib.pyplot as plt"
      ],
      "execution_count": null,
      "outputs": []
    },
    {
      "cell_type": "code",
      "metadata": {
        "id": "Rpk7-mKUTafS"
      },
      "source": [
        "def reload(intercept=False):\n",
        "\n",
        "  global X, Y, m, n\n",
        "\n",
        "  X = pd.read_csv('X_train.csv').iloc[:, 1:]\n",
        "  Y = pd.read_csv('Y_train.csv').iloc[:, 1:]\n",
        "\n",
        "  m, n = X.shape\n",
        "\n",
        "  if intercept:\n",
        "\n",
        "    X.insert(loc=0, column='b', value=[1.0] * m)\n",
        "    \n",
        "    n +=1\n",
        "\n",
        "  X, Y = X.to_numpy(), Y.to_numpy()"
      ],
      "execution_count": null,
      "outputs": []
    },
    {
      "cell_type": "markdown",
      "metadata": {
        "id": "IR9JptX2S0Yr"
      },
      "source": [
        "# Normal Equation  + Regularization "
      ]
    },
    {
      "cell_type": "code",
      "metadata": {
        "id": "GlcDtdAmQe5Q"
      },
      "source": [
        "reload(intercept=True)\n",
        "\n",
        "l = 100.0 # regularization parameter\n",
        "\n",
        "I = np.eye(n, n)\n",
        "I[0][0] = 0\n",
        "\n",
        "theta = np.linalg.inv(X.T @ X + l * I)  @ (X.T @ Y)"
      ],
      "execution_count": null,
      "outputs": []
    },
    {
      "cell_type": "code",
      "metadata": {
        "id": "92fCiA0cV9AF",
        "outputId": "e3abc535-ac57-424b-ddbe-270809bd0588",
        "colab": {
          "base_uri": "https://localhost:8080/",
          "height": 34
        }
      },
      "source": [
        "err = ((X @ theta - Y) ** 2).mean()\n",
        "print(err)"
      ],
      "execution_count": null,
      "outputs": [
        {
          "output_type": "stream",
          "text": [
            "6467.828199273587\n"
          ],
          "name": "stdout"
        }
      ]
    },
    {
      "cell_type": "markdown",
      "metadata": {
        "id": "EcaykaeIV6vO"
      },
      "source": [
        "# Gradient Descent + Line Search"
      ]
    },
    {
      "cell_type": "code",
      "metadata": {
        "id": "Z_aV8mWBVF-p"
      },
      "source": [
        "def hypothesis(X, theta, b):\n",
        "\n",
        "  return (X @ theta) + b"
      ],
      "execution_count": null,
      "outputs": []
    },
    {
      "cell_type": "code",
      "metadata": {
        "id": "6pCR7zeiWuIj"
      },
      "source": [
        "def compute_gradient_step(X, Y, h, lr):\n",
        "\n",
        "  dj = (h - Y)\n",
        "  \n",
        "  dtheta = X.T @ dj\n",
        "  db = np.sum(dj)\n",
        "\n",
        "  return dtheta * lr, db * lr"
      ],
      "execution_count": null,
      "outputs": []
    },
    {
      "cell_type": "code",
      "metadata": {
        "id": "E0hWWJo-ZRjI"
      },
      "source": [
        "def compute_cost(Y, h):\n",
        "\n",
        "  return ((h - Y) ** 2).mean()"
      ],
      "execution_count": null,
      "outputs": []
    },
    {
      "cell_type": "code",
      "metadata": {
        "id": "V1gGi6q9YGbR"
      },
      "source": [
        "def generate_lr_list(start=0.1, factor=0.1):\n",
        "\n",
        "  lr_list = []\n",
        "  \n",
        "  while start > 1e-12:\n",
        "\n",
        "    for i in range(1, 20):\n",
        "\n",
        "      lr_list.append(start)\n",
        "      start *= factor * i\n",
        "\n",
        "  return lr_list"
      ],
      "execution_count": null,
      "outputs": []
    },
    {
      "cell_type": "code",
      "metadata": {
        "id": "7Mqvn_95bJLR"
      },
      "source": [
        "def try_step(X, Y, theta, b, lr, return_update=False):\n",
        "\n",
        "    # initial hypothesis\n",
        "    h_i = hypothesis(X, theta, b)\n",
        "\n",
        "    # gradient step\n",
        "    dtheta, db = compute_gradient_step(X, Y, h_i, lr)\n",
        "    \n",
        "    # try\n",
        "    tmp_theta = theta - dtheta\n",
        "    tmp_b = b - db\n",
        "\n",
        "    # hypothesis after update\n",
        "    h = hypothesis(X, tmp_theta, tmp_b)\n",
        "\n",
        "    # cost after update\n",
        "    J = compute_cost(Y, h)\n",
        "\n",
        "    if return_update:\n",
        "\n",
        "      return J, tmp_theta, tmp_b\n",
        "      \n",
        "    return J"
      ],
      "execution_count": null,
      "outputs": []
    },
    {
      "cell_type": "code",
      "metadata": {
        "id": "z3HrCEIRXZuQ"
      },
      "source": [
        "def fit_model(X, Y, iter=10, start_lr=0.1, tol=0.0001):\n",
        "\n",
        "  theta = np.zeros((n, 1))\n",
        "  b = 0.0\n",
        "\n",
        "  # generate learning rate list with, factor=0.1\n",
        "  lr_list = generate_lr_list(start_lr, 0.1)\n",
        "\n",
        "  print(f'No. of lr choices : {len(lr_list)}')\n",
        "  print('=' * 100)\n",
        "  \n",
        "  cost = []\n",
        "\n",
        "  for i in range(iter):\n",
        "    \n",
        "    lr = start_lr\n",
        "\n",
        "    # initial - minimum cost\n",
        "    mn_J = try_step(X, Y, theta, b, lr, False)\n",
        "\n",
        "    for ith_lr in lr_list:\n",
        "      \n",
        "      # try update step\n",
        "      J_i = try_step(X, Y, theta, b, ith_lr, False)\n",
        "\n",
        "      \"\"\"\n",
        "        # 1. if minimum cost greater than cost after update step \n",
        "            set minimum = updated cost\n",
        "        \n",
        "        # 2. set best lr = ith_lr\n",
        "      \"\"\"\n",
        "\n",
        "      if mn_J > J_i:\n",
        "\n",
        "        mn_J = J_i\n",
        "        lr = ith_lr\n",
        "    \n",
        "    J, theta, b = try_step(X, Y, theta, b, lr, True)\n",
        "\n",
        "    print(f'iter - {i} | chosen lr = {lr} - Cost = {J}')\n",
        "    \n",
        "    # early stop \n",
        "    if i > 0 and cost[-1] - J <= tol:\n",
        "      \n",
        "      cost.append(J)\n",
        "      \n",
        "      print('=' * 50)\n",
        "      print(f'Algorithm converged at step {i}')\n",
        "\n",
        "      break\n",
        "\n",
        "    cost.append(J)\n",
        "\n",
        "  return theta, b, cost"
      ],
      "execution_count": null,
      "outputs": []
    },
    {
      "cell_type": "code",
      "metadata": {
        "id": "xnkA7EtpcqNf",
        "outputId": "aef9a692-c0fb-4b98-dedf-a830d402bd86",
        "colab": {
          "base_uri": "https://localhost:8080/",
          "height": 1000
        }
      },
      "source": [
        "reload(intercept=False)\n",
        "\n",
        "theta, b, cost = fit_model(X, Y, iter=300, start_lr=0.1, tol=0.0001)"
      ],
      "execution_count": null,
      "outputs": [
        {
          "output_type": "stream",
          "text": [
            "No. of lr choices : 114\n",
            "====================================================================================================\n",
            "iter - 0 | chosen lr = 7.788377617446272e-12 - Cost = 6099805.808979987\n",
            "iter - 1 | chosen lr = 7.788377617446272e-12 - Cost = 129146.00452947366\n",
            "iter - 2 | chosen lr = 7.788377617446272e-12 - Cost = 10525.473162999191\n",
            "iter - 3 | chosen lr = 7.788377617446272e-12 - Cost = 8168.8037712026\n",
            "iter - 4 | chosen lr = 7.788377617446272e-12 - Cost = 8121.9762944506665\n",
            "iter - 5 | chosen lr = 7.788377617446272e-12 - Cost = 8121.0389987545595\n",
            "iter - 6 | chosen lr = 1.3138014451290946e-11 - Cost = 8121.011963035194\n",
            "iter - 7 | chosen lr = 1.401907971140329e-11 - Cost = 8120.996507637663\n",
            "iter - 8 | chosen lr = 4.379338150430315e-11 - Cost = 8120.972078893591\n",
            "iter - 9 | chosen lr = 1.3138014451290946e-11 - Cost = 8120.946802886564\n",
            "iter - 10 | chosen lr = 1.401907971140329e-11 - Cost = 8120.931659872015\n",
            "iter - 11 | chosen lr = 4.379338150430315e-11 - Cost = 8120.905419387059\n",
            "iter - 12 | chosen lr = 1.3138014451290946e-11 - Cost = 8120.8816974867805\n",
            "iter - 13 | chosen lr = 2.6636251451666253e-11 - Cost = 8120.865576901407\n",
            "iter - 14 | chosen lr = 1.3138014451290946e-11 - Cost = 8120.844702006327\n",
            "iter - 15 | chosen lr = 2.6636251451666253e-11 - Cost = 8120.826600031519\n",
            "iter - 16 | chosen lr = 1.3138014451290946e-11 - Cost = 8120.807881821122\n",
            "iter - 17 | chosen lr = 2.6636251451666253e-11 - Cost = 8120.788279081378\n",
            "iter - 18 | chosen lr = 1.401907971140329e-11 - Cost = 8120.77100940207\n",
            "iter - 19 | chosen lr = 2.6636251451666253e-11 - Cost = 8120.751973785117\n",
            "iter - 20 | chosen lr = 1.401907971140329e-11 - Cost = 8120.734162736692\n",
            "iter - 21 | chosen lr = 2.6636251451666253e-11 - Cost = 8120.715762676322\n",
            "iter - 22 | chosen lr = 1.401907971140329e-11 - Cost = 8120.697344824862\n",
            "iter - 23 | chosen lr = 2.6636251451666253e-11 - Cost = 8120.679657021413\n",
            "iter - 24 | chosen lr = 1.3138014451290946e-11 - Cost = 8120.660491982268\n",
            "iter - 25 | chosen lr = 2.6636251451666253e-11 - Cost = 8120.641203559601\n",
            "iter - 26 | chosen lr = 1.401907971140329e-11 - Cost = 8120.623636894838\n",
            "iter - 27 | chosen lr = 2.6636251451666253e-11 - Cost = 8120.604953273867\n",
            "iter - 28 | chosen lr = 1.401907971140329e-11 - Cost = 8120.5868092126975\n",
            "iter - 29 | chosen lr = 2.6636251451666253e-11 - Cost = 8120.568803378702\n",
            "iter - 30 | chosen lr = 1.3138014451290946e-11 - Cost = 8120.5499871939455\n",
            "iter - 31 | chosen lr = 2.6636251451666253e-11 - Cost = 8120.530458297391\n",
            "iter - 32 | chosen lr = 1.401907971140329e-11 - Cost = 8120.513124224907\n",
            "iter - 33 | chosen lr = 2.6636251451666253e-11 - Cost = 8120.494170864682\n",
            "iter - 34 | chosen lr = 1.401907971140329e-11 - Cost = 8120.476287378071\n",
            "iter - 35 | chosen lr = 2.6636251451666253e-11 - Cost = 8120.457979004523\n",
            "iter - 36 | chosen lr = 1.401907971140329e-11 - Cost = 8120.43947969803\n",
            "iter - 37 | chosen lr = 2.6636251451666253e-11 - Cost = 8120.421894150514\n",
            "iter - 38 | chosen lr = 1.3138014451290946e-11 - Cost = 8120.402624483116\n",
            "iter - 39 | chosen lr = 2.6636251451666253e-11 - Cost = 8120.383414535735\n",
            "iter - 40 | chosen lr = 1.401907971140329e-11 - Cost = 8120.36577904811\n",
            "iter - 41 | chosen lr = 2.6636251451666253e-11 - Cost = 8120.34718287564\n",
            "iter - 42 | chosen lr = 1.401907971140329e-11 - Cost = 8120.3289614114565\n",
            "iter - 43 | chosen lr = 2.6636251451666253e-11 - Cost = 8120.311053083236\n",
            "iter - 44 | chosen lr = 1.3138014451290946e-11 - Cost = 8120.29213743798\n",
            "iter - 45 | chosen lr = 2.6636251451666253e-11 - Cost = 8120.272683418308\n",
            "iter - 46 | chosen lr = 1.401907971140329e-11 - Cost = 8120.255283963023\n",
            "iter - 47 | chosen lr = 2.6636251451666253e-11 - Cost = 8120.236414018386\n",
            "iter - 48 | chosen lr = 1.401907971140329e-11 - Cost = 8120.218456984556\n",
            "iter - 49 | chosen lr = 2.6636251451666253e-11 - Cost = 8120.200241596543\n",
            "iter - 50 | chosen lr = 1.401907971140329e-11 - Cost = 8120.1816595921755\n",
            "iter - 51 | chosen lr = 2.6636251451666253e-11 - Cost = 8120.164177756299\n",
            "iter - 52 | chosen lr = 1.3138014451290946e-11 - Cost = 8120.144801875795\n",
            "iter - 53 | chosen lr = 2.6636251451666253e-11 - Cost = 8120.125671506204\n",
            "iter - 54 | chosen lr = 1.401907971140329e-11 - Cost = 8120.107966140314\n",
            "iter - 55 | chosen lr = 2.6636251451666253e-11 - Cost = 8120.089458652195\n",
            "iter - 56 | chosen lr = 1.401907971140329e-11 - Cost = 8120.071158602297\n",
            "iter - 57 | chosen lr = 2.6636251451666253e-11 - Cost = 8120.053349164922\n",
            "iter - 58 | chosen lr = 1.3138014451290946e-11 - Cost = 8120.034332551096\n",
            "iter - 59 | chosen lr = 2.6636251451666253e-11 - Cost = 8120.014954457286\n",
            "iter - 60 | chosen lr = 1.401907971140329e-11 - Cost = 8119.997488615146\n",
            "iter - 61 | chosen lr = 2.6636251451666253e-11 - Cost = 8119.978703261908\n",
            "iter - 62 | chosen lr = 1.401907971140329e-11 - Cost = 8119.960671555391\n",
            "iter - 63 | chosen lr = 2.6636251451666253e-11 - Cost = 8119.942550471053\n",
            "iter - 64 | chosen lr = 1.3138014451290946e-11 - Cost = 8119.923875765039\n",
            "iter - 65 | chosen lr = 2.6636251451666253e-11 - Cost = 8119.904262032743\n",
            "iter - 66 | chosen lr = 1.401907971140329e-11 - Cost = 8119.8870241583\n",
            "iter - 67 | chosen lr = 2.6636251451666253e-11 - Cost = 8119.867974485433\n",
            "iter - 68 | chosen lr = 1.401907971140329e-11 - Cost = 8119.850198170407\n",
            "iter - 69 | chosen lr = 2.6636251451666253e-11 - Cost = 8119.831780620725\n",
            "iter - 70 | chosen lr = 1.401907971140329e-11 - Cost = 8119.813400784952\n",
            "iter - 71 | chosen lr = 2.6636251451666253e-11 - Cost = 8119.795691644252\n",
            "iter - 72 | chosen lr = 1.3138014451290946e-11 - Cost = 8119.776572531059\n",
            "iter - 73 | chosen lr = 2.6636251451666253e-11 - Cost = 8119.7572714279095\n",
            "iter - 74 | chosen lr = 1.401907971140329e-11 - Cost = 8119.739738179828\n",
            "iter - 75 | chosen lr = 2.6636251451666253e-11 - Cost = 8119.721038611369\n",
            "iter - 76 | chosen lr = 1.401907971140329e-11 - Cost = 8119.702931090038\n",
            "iter - 77 | chosen lr = 2.6636251451666253e-11 - Cost = 8119.684905646893\n",
            "iter - 78 | chosen lr = 1.3138014451290946e-11 - Cost = 8119.666133506215\n",
            "iter - 79 | chosen lr = 2.6636251451666253e-11 - Cost = 8119.646593238011\n",
            "iter - 80 | chosen lr = 1.401907971140329e-11 - Cost = 8119.629291329095\n",
            "iter - 81 | chosen lr = 2.6636251451666253e-11 - Cost = 8119.610323488474\n",
            "iter - 82 | chosen lr = 1.401907971140329e-11 - Cost = 8119.592475137457\n",
            "iter - 83 | chosen lr = 2.6636251451666253e-11 - Cost = 8119.574148799104\n",
            "iter - 84 | chosen lr = 1.401907971140329e-11 - Cost = 8119.555687959294\n",
            "iter - 85 | chosen lr = 2.6636251451666253e-11 - Cost = 8119.538080541853\n",
            "iter - 86 | chosen lr = 1.3138014451290946e-11 - Cost = 8119.51885737606\n",
            "iter - 87 | chosen lr = 2.6636251451666253e-11 - Cost = 8119.499634344083\n",
            "iter - 88 | chosen lr = 1.401907971140329e-11 - Cost = 8119.482032655766\n",
            "iter - 89 | chosen lr = 2.6636251451666253e-11 - Cost = 8119.463420083211\n",
            "iter - 90 | chosen lr = 1.401907971140329e-11 - Cost = 8119.445235588014\n",
            "iter - 91 | chosen lr = 2.6636251451666253e-11 - Cost = 8119.427307143608\n",
            "iter - 92 | chosen lr = 1.3138014451290946e-11 - Cost = 8119.408436090153\n",
            "iter - 93 | chosen lr = 2.6636251451666253e-11 - Cost = 8119.388970314145\n",
            "iter - 94 | chosen lr = 1.401907971140329e-11 - Cost = 8119.371603386581\n",
            "iter - 95 | chosen lr = 2.6636251451666253e-11 - Cost = 8119.352718530621\n",
            "iter - 96 | chosen lr = 1.401907971140329e-11 - Cost = 8119.334797040673\n",
            "iter - 97 | chosen lr = 2.6636251451666253e-11 - Cost = 8119.316563205272\n",
            "iter - 98 | chosen lr = 1.401907971140329e-11 - Cost = 8119.298020125262\n",
            "iter - 99 | chosen lr = 2.6636251451666253e-11 - Cost = 8119.280515878964\n",
            "iter - 100 | chosen lr = 1.3138014451290946e-11 - Cost = 8119.261187084176\n",
            "iter - 101 | chosen lr = 2.6636251451666253e-11 - Cost = 8119.242043219969\n",
            "iter - 102 | chosen lr = 1.401907971140329e-11 - Cost = 8119.224372041767\n",
            "iter - 103 | chosen lr = 2.6636251451666253e-11 - Cost = 8119.2058476942175\n",
            "iter - 104 | chosen lr = 1.401907971140329e-11 - Cost = 8119.1875850488805\n",
            "iter - 105 | chosen lr = 2.6636251451666253e-11 - Cost = 8119.169754980796\n",
            "iter - 106 | chosen lr = 1.3138014451290946e-11 - Cost = 8119.150783514568\n",
            "iter - 107 | chosen lr = 2.6636251451666253e-11 - Cost = 8119.1313932741605\n",
            "iter - 108 | chosen lr = 1.401907971140329e-11 - Cost = 8119.11396032928\n",
            "iter - 109 | chosen lr = 2.6636251451666253e-11 - Cost = 8119.095159627497\n",
            "iter - 110 | chosen lr = 1.401907971140329e-11 - Cost = 8119.077163879157\n",
            "iter - 111 | chosen lr = 2.6636251451666253e-11 - Cost = 8119.059023857748\n",
            "iter - 112 | chosen lr = 1.3138014451290946e-11 - Cost = 8119.040392455106\n",
            "iter - 113 | chosen lr = 2.6636251451666253e-11 - Cost = 8119.020767858781\n",
            "iter - 114 | chosen lr = 1.401907971140329e-11 - Cost = 8119.003561653579\n",
            "iter - 115 | chosen lr = 2.6636251451666253e-11 - Cost = 8118.9844980699245\n",
            "iter - 116 | chosen lr = 1.401907971140329e-11 - Cost = 8118.966756336851\n",
            "iter - 117 | chosen lr = 2.6636251451666253e-11 - Cost = 8118.948321461714\n",
            "iter - 118 | chosen lr = 1.401907971140329e-11 - Cost = 8118.929979472305\n",
            "iter - 119 | chosen lr = 2.6636251451666253e-11 - Cost = 8118.912249178785\n",
            "iter - 120 | chosen lr = 1.3138014451290946e-11 - Cost = 8118.8931757773935\n",
            "iter - 121 | chosen lr = 2.6636251451666253e-11 - Cost = 8118.873862131504\n",
            "iter - 122 | chosen lr = 1.401907971140329e-11 - Cost = 8118.85636215566\n",
            "iter - 123 | chosen lr = 2.6636251451666253e-11 - Cost = 8118.837646795053\n",
            "iter - 124 | chosen lr = 1.401907971140329e-11 - Cost = 8118.819575652511\n",
            "iter - 125 | chosen lr = 2.6636251451666253e-11 - Cost = 8118.801530775372\n",
            "iter - 126 | chosen lr = 1.3138014451290946e-11 - Cost = 8118.782802474693\n",
            "iter - 127 | chosen lr = 2.6636251451666253e-11 - Cost = 8118.763250965402\n",
            "iter - 128 | chosen lr = 1.401907971140329e-11 - Cost = 8118.7459810825585\n",
            "iter - 129 | chosen lr = 2.6636251451666253e-11 - Cost = 8118.726998908898\n",
            "iter - 130 | chosen lr = 1.401907971140329e-11 - Cost = 8118.709185539914\n",
            "iter - 131 | chosen lr = 2.6636251451666253e-11 - Cost = 8118.690841403025\n",
            "iter - 132 | chosen lr = 1.401907971140329e-11 - Cost = 8118.672418858206\n",
            "iter - 133 | chosen lr = 2.6636251451666253e-11 - Cost = 8118.654789758144\n",
            "iter - 134 | chosen lr = 1.3138014451290946e-11 - Cost = 8118.635612876663\n",
            "iter - 135 | chosen lr = 2.6636251451666253e-11 - Cost = 8118.616376899961\n",
            "iter - 136 | chosen lr = 1.401907971140329e-11 - Cost = 8118.598808864517\n",
            "iter - 137 | chosen lr = 2.6636251451666253e-11 - Cost = 8118.5801800496965\n",
            "iter - 138 | chosen lr = 1.401907971140329e-11 - Cost = 8118.562032359973\n",
            "iter - 139 | chosen lr = 2.6636251451666253e-11 - Cost = 8118.544083977234\n",
            "iter - 140 | chosen lr = 1.3138014451290946e-11 - Cost = 8118.525257308498\n",
            "iter - 141 | chosen lr = 2.6636251451666253e-11 - Cost = 8118.505779908921\n",
            "iter - 142 | chosen lr = 1.401907971140329e-11 - Cost = 8118.488445369591\n",
            "iter - 143 | chosen lr = 2.6636251451666253e-11 - Cost = 8118.469545752012\n",
            "iter - 144 | chosen lr = 1.401907971140329e-11 - Cost = 8118.451659650125\n",
            "iter - 145 | chosen lr = 2.6636251451666253e-11 - Cost = 8118.433407536236\n",
            "iter - 146 | chosen lr = 1.401907971140329e-11 - Cost = 8118.414903206493\n",
            "iter - 147 | chosen lr = 2.6636251451666253e-11 - Cost = 8118.3973767398375\n",
            "iter - 148 | chosen lr = 1.3138014451290946e-11 - Cost = 8118.37809481041\n",
            "iter - 149 | chosen lr = 2.6636251451666253e-11 - Cost = 8118.358937593633\n",
            "iter - 150 | chosen lr = 1.401907971140329e-11 - Cost = 8118.341300454671\n",
            "iter - 151 | chosen lr = 2.6636251451666253e-11 - Cost = 8118.322759407898\n",
            "iter - 152 | chosen lr = 1.401907971140329e-11 - Cost = 8118.304534001169\n",
            "iter - 153 | chosen lr = 2.6636251451666253e-11 - Cost = 8118.286683483131\n",
            "iter - 154 | chosen lr = 1.3138014451290946e-11 - Cost = 8118.26775695446\n",
            "iter - 155 | chosen lr = 2.6636251451666253e-11 - Cost = 8118.24835470213\n",
            "iter - 156 | chosen lr = 1.401907971140329e-11 - Cost = 8118.230954512981\n",
            "iter - 157 | chosen lr = 2.6636251451666253e-11 - Cost = 8118.212138614793\n",
            "iter - 158 | chosen lr = 1.401907971140329e-11 - Cost = 8118.194178666604\n",
            "iter - 159 | chosen lr = 2.6636251451666253e-11 - Cost = 8118.1760198796055\n",
            "iter - 160 | chosen lr = 1.3138014451290946e-11 - Cost = 8118.157431580148\n",
            "iter - 161 | chosen lr = 2.6636251451666253e-11 - Cost = 8118.13779624766\n",
            "iter - 162 | chosen lr = 1.401907971140329e-11 - Cost = 8118.120621576856\n",
            "iter - 163 | chosen lr = 2.6636251451666253e-11 - Cost = 8118.101544226694\n",
            "iter - 164 | chosen lr = 1.401907971140329e-11 - Cost = 8118.08383692489\n",
            "iter - 165 | chosen lr = 2.6636251451666253e-11 - Cost = 8118.065384886981\n",
            "iter - 166 | chosen lr = 1.401907971140329e-11 - Cost = 8118.047080575794\n",
            "iter - 167 | chosen lr = 2.6636251451666253e-11 - Cost = 8118.029329312968\n",
            "iter - 168 | chosen lr = 1.3138014451290946e-11 - Cost = 8118.010301410179\n",
            "iter - 169 | chosen lr = 2.6636251451666253e-11 - Cost = 8117.99097535846\n",
            "iter - 170 | chosen lr = 1.401907971140329e-11 - Cost = 8117.973508511345\n",
            "iter - 171 | chosen lr = 2.6636251451666253e-11 - Cost = 8117.954777513063\n",
            "iter - 172 | chosen lr = 1.401907971140329e-11 - Cost = 8117.936742588875\n",
            "iter - 173 | chosen lr = 2.6636251451666253e-11 - Cost = 8117.918678451851\n",
            "iter - 174 | chosen lr = 1.3138014451290946e-11 - Cost = 8117.899993788377\n",
            "iter - 175 | chosen lr = 2.6636251451666253e-11 - Cost = 8117.880431167889\n",
            "iter - 176 | chosen lr = 1.401907971140329e-11 - Cost = 8117.86319317425\n",
            "iter - 177 | chosen lr = 2.6636251451666253e-11 - Cost = 8117.844196814094\n",
            "iter - 178 | chosen lr = 1.401907971140329e-11 - Cost = 8117.826418274267\n",
            "iter - 179 | chosen lr = 2.6636251451666253e-11 - Cost = 8117.808056504079\n",
            "iter - 180 | chosen lr = 1.401907971140329e-11 - Cost = 8117.7896720837125\n",
            "iter - 181 | chosen lr = 2.6636251451666253e-11 - Cost = 8117.772021487288\n",
            "iter - 182 | chosen lr = 1.3138014451290946e-11 - Cost = 8117.752890673864\n",
            "iter - 183 | chosen lr = 2.6636251451666253e-11 - Cost = 8117.733641891566\n",
            "iter - 184 | chosen lr = 1.401907971140329e-11 - Cost = 8117.716107363438\n",
            "iter - 185 | chosen lr = 2.6636251451666253e-11 - Cost = 8117.697462463017\n",
            "iter - 186 | chosen lr = 1.401907971140329e-11 - Cost = 8117.679351416284\n",
            "iter - 187 | chosen lr = 2.6636251451666253e-11 - Cost = 8117.661383272036\n",
            "iter - 188 | chosen lr = 1.3138014451290946e-11 - Cost = 8117.642600782204\n",
            "iter - 189 | chosen lr = 2.6636251451666253e-11 - Cost = 8117.623111890807\n",
            "iter - 190 | chosen lr = 1.401907971140329e-11 - Cost = 8117.605809600911\n",
            "iter - 191 | chosen lr = 2.6636251451666253e-11 - Cost = 8117.586895370669\n",
            "iter - 192 | chosen lr = 1.401907971140329e-11 - Cost = 8117.569044501843\n",
            "iter - 193 | chosen lr = 2.6636251451666253e-11 - Cost = 8117.5507742772625\n",
            "iter - 194 | chosen lr = 1.401907971140329e-11 - Cost = 8117.532308524692\n",
            "iter - 195 | chosen lr = 2.6636251451666253e-11 - Cost = 8117.514760027024\n",
            "iter - 196 | chosen lr = 1.3138014451290946e-11 - Cost = 8117.495524743524\n",
            "iter - 197 | chosen lr = 2.6636251451666253e-11 - Cost = 8117.476354315256\n",
            "iter - 198 | chosen lr = 1.401907971140329e-11 - Cost = 8117.458751067897\n",
            "iter - 199 | chosen lr = 2.6636251451666253e-11 - Cost = 8117.440193481244\n",
            "iter - 200 | chosen lr = 1.401907971140329e-11 - Cost = 8117.422005148264\n",
            "iter - 201 | chosen lr = 2.6636251451666253e-11 - Cost = 8117.404134359692\n",
            "iter - 202 | chosen lr = 1.3138014451290946e-11 - Cost = 8117.385252559766\n",
            "iter - 203 | chosen lr = 2.6636251451666253e-11 - Cost = 8117.3658384295195\n",
            "iter - 204 | chosen lr = 1.401907971140329e-11 - Cost = 8117.348470855373\n",
            "iter - 205 | chosen lr = 2.6636251451666253e-11 - Cost = 8117.3296399119545\n",
            "iter - 206 | chosen lr = 1.401907971140329e-11 - Cost = 8117.311715606692\n",
            "iter - 207 | chosen lr = 2.6636251451666253e-11 - Cost = 8117.293538224547\n",
            "iter - 208 | chosen lr = 1.401907971140329e-11 - Cost = 8117.274989898865\n",
            "iter - 209 | chosen lr = 2.6636251451666253e-11 - Cost = 8117.257544953354\n",
            "iter - 210 | chosen lr = 1.3138014451290946e-11 - Cost = 8117.238203617193\n",
            "iter - 211 | chosen lr = 2.6636251451666253e-11 - Cost = 8117.219112644078\n",
            "iter - 212 | chosen lr = 1.401907971140329e-11 - Cost = 8117.201439623693\n",
            "iter - 213 | chosen lr = 2.6636251451666253e-11 - Cost = 8117.1829705847695\n",
            "iter - 214 | chosen lr = 1.401907971140329e-11 - Cost = 8117.164703784467\n",
            "iter - 215 | chosen lr = 2.6636251451666253e-11 - Cost = 8117.146931734693\n",
            "iter - 216 | chosen lr = 1.3138014451290946e-11 - Cost = 8117.127949118707\n",
            "iter - 217 | chosen lr = 2.6636251451666253e-11 - Cost = 8117.108610797182\n",
            "iter - 218 | chosen lr = 1.401907971140329e-11 - Cost = 8117.091176936011\n",
            "iter - 219 | chosen lr = 2.6636251451666253e-11 - Cost = 8117.072430453638\n",
            "iter - 220 | chosen lr = 1.401907971140329e-11 - Cost = 8117.054431588279\n",
            "iter - 221 | chosen lr = 2.6636251451666253e-11 - Cost = 8117.036348364542\n",
            "iter - 222 | chosen lr = 1.3138014451290946e-11 - Cost = 8117.017707136269\n",
            "iter - 223 | chosen lr = 2.6636251451666253e-11 - Cost = 8116.998133533638\n",
            "iter - 224 | chosen lr = 1.401907971140329e-11 - Cost = 8116.980927293195\n",
            "iter - 225 | chosen lr = 2.6636251451666253e-11 - Cost = 8116.961916892296\n",
            "iter - 226 | chosen lr = 1.401907971140329e-11 - Cost = 8116.944173029676\n",
            "iter - 227 | chosen lr = 2.6636251451666253e-11 - Cost = 8116.925793790624\n",
            "iter - 228 | chosen lr = 1.401907971140329e-11 - Cost = 8116.907447324768\n",
            "iter - 229 | chosen lr = 2.6636251451666253e-11 - Cost = 8116.889775417361\n",
            "iter - 230 | chosen lr = 1.3138014451290946e-11 - Cost = 8116.87069045695\n",
            "iter - 231 | chosen lr = 2.6636251451666253e-11 - Cost = 8116.8514290072735\n",
            "iter - 232 | chosen lr = 1.401907971140329e-11 - Cost = 8116.833927841642\n",
            "iter - 233 | chosen lr = 2.6636251451666253e-11 - Cost = 8116.815267011732\n",
            "iter - 234 | chosen lr = 1.401907971140329e-11 - Cost = 8116.797192445928\n",
            "iter - 235 | chosen lr = 2.6636251451666253e-11 - Cost = 8116.779204716156\n",
            "iter - 236 | chosen lr = 1.3138014451290946e-11 - Cost = 8116.760466200437\n",
            "iter - 237 | chosen lr = 2.6636251451666253e-11 - Cost = 8116.740965948421\n",
            "iter - 238 | chosen lr = 1.401907971140329e-11 - Cost = 8116.723695769881\n",
            "iter - 239 | chosen lr = 2.6636251451666253e-11 - Cost = 8116.704767074923\n",
            "iter - 240 | chosen lr = 1.401907971140329e-11 - Cost = 8116.686951285026\n",
            "iter - 241 | chosen lr = 2.6636251451666253e-11 - Cost = 8116.668663116706\n",
            "iter - 242 | chosen lr = 1.401907971140329e-11 - Cost = 8116.650235769015\n",
            "iter - 243 | chosen lr = 2.6636251451666253e-11 - Cost = 8116.632665428329\n",
            "iter - 244 | chosen lr = 1.3138014451290946e-11 - Cost = 8116.613476572666\n",
            "iter - 245 | chosen lr = 2.6636251451666253e-11 - Cost = 8116.5942930736355\n",
            "iter - 246 | chosen lr = 1.401907971140329e-11 - Cost = 8116.576723570881\n",
            "iter - 247 | chosen lr = 2.6636251451666253e-11 - Cost = 8116.558149602742\n",
            "iter - 248 | chosen lr = 1.401907971140329e-11 - Cost = 8116.5399981791525\n",
            "iter - 249 | chosen lr = 2.6636251451666253e-11 - Cost = 8116.52210729879\n",
            "iter - 250 | chosen lr = 1.3138014451290946e-11 - Cost = 8116.5032700197735\n",
            "iter - 251 | chosen lr = 2.6636251451666253e-11 - Cost = 8116.483844144938\n",
            "iter - 252 | chosen lr = 1.401907971140329e-11 - Cost = 8116.466509045656\n",
            "iter - 253 | chosen lr = 2.6636251451666253e-11 - Cost = 8116.447663207376\n",
            "iter - 254 | chosen lr = 1.401907971140329e-11 - Cost = 8116.42977438868\n",
            "iter - 255 | chosen lr = 2.6636251451666253e-11 - Cost = 8116.4115785809845\n",
            "iter - 256 | chosen lr = 1.401907971140329e-11 - Cost = 8116.393069117143\n",
            "iter - 257 | chosen lr = 2.6636251451666253e-11 - Cost = 8116.375601788864\n",
            "iter - 258 | chosen lr = 1.3138014451290946e-11 - Cost = 8116.3563074639105\n",
            "iter - 259 | chosen lr = 2.6636251451666253e-11 - Cost = 8116.337203010365\n",
            "iter - 260 | chosen lr = 1.401907971140329e-11 - Cost = 8116.319564122449\n",
            "iter - 261 | chosen lr = 2.6636251451666253e-11 - Cost = 8116.301078243488\n",
            "iter - 262 | chosen lr = 1.401907971140329e-11 - Cost = 8116.282848787502\n",
            "iter - 263 | chosen lr = 2.6636251451666253e-11 - Cost = 8116.265056132186\n",
            "iter - 264 | chosen lr = 1.3138014451290946e-11 - Cost = 8116.246118592108\n",
            "iter - 265 | chosen lr = 2.6636251451666253e-11 - Cost = 8116.226768136184\n",
            "iter - 266 | chosen lr = 1.401907971140329e-11 - Cost = 8116.209367118927\n",
            "iter - 267 | chosen lr = 2.6636251451666253e-11 - Cost = 8116.190605305108\n",
            "iter - 268 | chosen lr = 1.401907971140329e-11 - Cost = 8116.172642340025\n",
            "iter - 269 | chosen lr = 2.6636251451666253e-11 - Cost = 8116.154540201745\n",
            "iter - 270 | chosen lr = 1.3138014451290946e-11 - Cost = 8116.1359422077985\n",
            "iter - 271 | chosen lr = 2.6636251451666253e-11 - Cost = 8116.1163577515235\n",
            "iter - 272 | chosen lr = 1.401907971140329e-11 - Cost = 8116.099183128886\n",
            "iter - 273 | chosen lr = 2.6636251451666253e-11 - Cost = 8116.080158831983\n",
            "iter - 274 | chosen lr = 1.401907971140329e-11 - Cost = 8116.062449495525\n",
            "iter - 275 | chosen lr = 2.6636251451666253e-11 - Cost = 8116.044052951038\n",
            "iter - 276 | chosen lr = 1.401907971140329e-11 - Cost = 8116.0257442707725\n",
            "iter - 277 | chosen lr = 2.6636251451666253e-11 - Cost = 8116.008051236445\n",
            "iter - 278 | chosen lr = 1.3138014451290946e-11 - Cost = 8115.989011915291\n",
            "iter - 279 | chosen lr = 2.6636251451666253e-11 - Cost = 8115.969737935588\n",
            "iter - 280 | chosen lr = 1.401907971140329e-11 - Cost = 8115.952269988362\n",
            "iter - 281 | chosen lr = 2.6636251451666253e-11 - Cost = 8115.933593384165\n",
            "iter - 282 | chosen lr = 1.401907971140329e-11 - Cost = 8115.915555138471\n",
            "iter - 283 | chosen lr = 2.6636251451666253e-11 - Cost = 8115.897547997963\n",
            "iter - 284 | chosen lr = 1.3138014451290946e-11 - Cost = 8115.878853252555\n",
            "iter - 285 | chosen lr = 2.6636251451666253e-11 - Cost = 8115.859341770298\n",
            "iter - 286 | chosen lr = 1.401907971140329e-11 - Cost = 8115.842103565894\n",
            "iter - 287 | chosen lr = 2.6636251451666253e-11 - Cost = 8115.823160553372\n",
            "iter - 288 | chosen lr = 1.401907971140329e-11 - Cost = 8115.805379688942\n",
            "iter - 289 | chosen lr = 2.6636251451666253e-11 - Cost = 8115.787073742935\n",
            "iter - 290 | chosen lr = 1.401907971140329e-11 - Cost = 8115.768684628814\n",
            "iter - 291 | chosen lr = 2.6636251451666253e-11 - Cost = 8115.751092632244\n",
            "iter - 292 | chosen lr = 1.3138014451290946e-11 - Cost = 8115.731949987332\n",
            "iter - 293 | chosen lr = 2.6636251451666253e-11 - Cost = 8115.712753557002\n",
            "iter - 294 | chosen lr = 1.401907971140329e-11 - Cost = 8115.69521765274\n",
            "iter - 295 | chosen lr = 2.6636251451666253e-11 - Cost = 8115.676627460729\n",
            "iter - 296 | chosen lr = 1.401907971140329e-11 - Cost = 8115.65851278336\n",
            "iter - 297 | chosen lr = 2.6636251451666253e-11 - Cost = 8115.640601988789\n",
            "iter - 298 | chosen lr = 1.3138014451290946e-11 - Cost = 8115.621809023913\n",
            "iter - 299 | chosen lr = 2.6636251451666253e-11 - Cost = 8115.602371536842\n"
          ],
          "name": "stdout"
        }
      ]
    },
    {
      "cell_type": "code",
      "metadata": {
        "id": "J5XKdyNYhOsJ",
        "outputId": "b257906d-537e-41c7-f7cd-c125d6938ec7",
        "colab": {
          "base_uri": "https://localhost:8080/",
          "height": 34
        }
      },
      "source": [
        "pred = hypothesis(X, theta, b)\n",
        "\n",
        "err = compute_cost(Y, pred)\n",
        "\n",
        "print(err)"
      ],
      "execution_count": null,
      "outputs": [
        {
          "output_type": "stream",
          "text": [
            "8115.602371536842\n"
          ],
          "name": "stdout"
        }
      ]
    },
    {
      "cell_type": "code",
      "metadata": {
        "id": "qxgZVCVlkjRL",
        "outputId": "ef4222ac-c2ec-4ab2-c2b5-4a5b19988e94",
        "colab": {
          "base_uri": "https://localhost:8080/",
          "height": 276
        }
      },
      "source": [
        "iter = np.arange(0, len(cost))\n",
        "\n",
        "plt.plot(iter, cost)\n",
        "plt.show()"
      ],
      "execution_count": null,
      "outputs": [
        {
          "output_type": "display_data",
          "data": {
            "image/png": "[encoded data removed]",
            "text/plain": [
              "<Figure size 432x288 with 1 Axes>"
            ]
          },
          "metadata": {
            "tags": [],
            "needs_background": "light"
          }
        }
      ]
    }
  ]
}